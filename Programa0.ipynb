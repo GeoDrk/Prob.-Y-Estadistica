{
  "nbformat": 4,
  "nbformat_minor": 0,
  "metadata": {
    "colab": {
      "provenance": [],
      "authorship_tag": "ABX9TyOazsRoKLMdtwM9Lj8aVzyK",
      "include_colab_link": true
    },
    "kernelspec": {
      "name": "python3",
      "display_name": "Python 3"
    },
    "language_info": {
      "name": "python"
    }
  },
  "cells": [
    {
      "cell_type": "markdown",
      "metadata": {
        "id": "view-in-github",
        "colab_type": "text"
      },
      "source": [
        "<a href=\"https://colab.research.google.com/github/GeoDrk/Prob.-Y-Estadistica/blob/main/Programa0.ipynb\" target=\"_parent\"><img src=\"https://colab.research.google.com/assets/colab-badge.svg\" alt=\"Open In Colab\"/></a>"
      ]
    },
    {
      "cell_type": "markdown",
      "source": [
        "\n",
        "# Probabilidad y Estadística\n",
        "# Unidad 1\n",
        "\n",
        "Práctica #0 Introducción a Python\n",
        "\n",
        "Grupo 2Y\n",
        "\n",
        "Alumno: Geovanni Joel Ramirez Rivas\n",
        "\n",
        "Docente: Dr. José Gabriel Rodríguez Rivas"
      ],
      "metadata": {
        "id": "N2C-Rfiyfqyx"
      }
    },
    {
      "cell_type": "code",
      "source": [
        "x = 10\n",
        "print(x)"
      ],
      "metadata": {
        "colab": {
          "base_uri": "https://localhost:8080/"
        },
        "id": "ts9GFDJwcA8h",
        "outputId": "142ea670-bdcd-4a99-d61e-136317e384a5"
      },
      "execution_count": 1,
      "outputs": [
        {
          "output_type": "stream",
          "name": "stdout",
          "text": [
            "10\n"
          ]
        }
      ]
    },
    {
      "cell_type": "code",
      "source": [
        "print(type(x))"
      ],
      "metadata": {
        "colab": {
          "base_uri": "https://localhost:8080/"
        },
        "id": "DRJu4KZocHSf",
        "outputId": "c7707391-1c7b-4edf-8eec-db14e46f11b6"
      },
      "execution_count": 3,
      "outputs": [
        {
          "output_type": "stream",
          "name": "stdout",
          "text": [
            "<class 'str'>\n"
          ]
        }
      ]
    },
    {
      "cell_type": "code",
      "source": [
        "# ESTE ES UN COMENTARIO\n",
        "x = \"hola hola\"\n",
        "print(x)"
      ],
      "metadata": {
        "colab": {
          "base_uri": "https://localhost:8080/"
        },
        "id": "ZAlUoWlmcLpW",
        "outputId": "0a3409fa-8556-40db-9455-5dfd0686780d"
      },
      "execution_count": 2,
      "outputs": [
        {
          "output_type": "stream",
          "name": "stdout",
          "text": [
            "hola hola\n"
          ]
        }
      ]
    },
    {
      "cell_type": "code",
      "execution_count": 7,
      "metadata": {
        "id": "2oZ18TV-8PXA",
        "colab": {
          "base_uri": "https://localhost:8080/"
        },
        "outputId": "682db646-9e59-4b43-8aac-b7c8ffa62c13"
      },
      "outputs": [
        {
          "output_type": "stream",
          "name": "stdout",
          "text": [
            "15 es menor que 20\n",
            "Fuera del if\n"
          ]
        }
      ],
      "source": [
        "a = 20\n",
        "b = 15\n",
        "if a < b:\n",
        "  print(a, \"es menor que\", b)\n",
        "else:\n",
        "  print(b, \"es menor que\", a)\n",
        "print(\"Fuera del if\")"
      ]
    },
    {
      "cell_type": "code",
      "source": [
        "for i in range(10):\n",
        "    print(i)\n",
        "    print(\"Dentro del for\")\n",
        "print(\"Fuera de ciclo\")"
      ],
      "metadata": {
        "colab": {
          "base_uri": "https://localhost:8080/"
        },
        "id": "OI9phDeadsyg",
        "outputId": "31eac5a3-a8de-448f-c2f9-1337cecb4e62"
      },
      "execution_count": 14,
      "outputs": [
        {
          "output_type": "stream",
          "name": "stdout",
          "text": [
            "0\n",
            "Dentro del for\n",
            "1\n",
            "Dentro del for\n",
            "2\n",
            "Dentro del for\n",
            "3\n",
            "Dentro del for\n",
            "4\n",
            "Dentro del for\n",
            "5\n",
            "Dentro del for\n",
            "6\n",
            "Dentro del for\n",
            "7\n",
            "Dentro del for\n",
            "8\n",
            "Dentro del for\n",
            "9\n",
            "Dentro del for\n",
            "Fuera de ciclo\n"
          ]
        }
      ]
    }
  ]
}