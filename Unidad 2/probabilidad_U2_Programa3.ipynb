{
  "nbformat": 4,
  "nbformat_minor": 0,
  "metadata": {
    "colab": {
      "provenance": [],
      "authorship_tag": "ABX9TyMIThzrScvhK9xZj3JoIVvj",
      "include_colab_link": true
    },
    "kernelspec": {
      "name": "python3",
      "display_name": "Python 3"
    },
    "language_info": {
      "name": "python"
    }
  },
  "cells": [
    {
      "cell_type": "markdown",
      "metadata": {
        "id": "view-in-github",
        "colab_type": "text"
      },
      "source": [
        "<a href=\"https://colab.research.google.com/github/GeoDrk/Prob.-Y-Estadistica/blob/main/Unidad%202/probabilidad_U2_Programa3.ipynb\" target=\"_parent\"><img src=\"https://colab.research.google.com/assets/colab-badge.svg\" alt=\"Open In Colab\"/></a>"
      ]
    },
    {
      "cell_type": "markdown",
      "source": [
        "# UNIDAD 2\n",
        "# Programa 3\n",
        "Alumno: Geovanni Joel Ramirez Rivas\n",
        "\n",
        "Docente: Dr. José Gabriel Rodriguez Rivas"
      ],
      "metadata": {
        "id": "Va9I_fqTovv_"
      }
    },
    {
      "cell_type": "code",
      "execution_count": 1,
      "metadata": {
        "colab": {
          "base_uri": "https://localhost:8080/"
        },
        "id": "KAAgVeDfoo9z",
        "outputId": "f11f8227-e45b-4f26-9419-e78056887f9c"
      },
      "outputs": [
        {
          "output_type": "stream",
          "name": "stdout",
          "text": [
            "El número de maneras de elegir los asistentes es: 5040\n"
          ]
        }
      ],
      "source": [
        "import math\n",
        "\n",
        "# Datos\n",
        "n = 10  # Número de asistentes\n",
        "r = 4   # Número de preguntas para calificar\n",
        "\n",
        "# Calcular el número de permutaciones\n",
        "numerador = math.factorial(n)\n",
        "denominador = math.factorial(n - r)\n",
        "permutaciones = numerador / denominador\n",
        "\n",
        "# Mostrar el resultado\n",
        "print(f\"El número de maneras de elegir los asistentes es: {int(permutaciones)}\")"
      ]
    }
  ]
}