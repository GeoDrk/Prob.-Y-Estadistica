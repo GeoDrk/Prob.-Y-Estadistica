{
  "nbformat": 4,
  "nbformat_minor": 0,
  "metadata": {
    "colab": {
      "provenance": [],
      "authorship_tag": "ABX9TyPRn04QDzCJc77S32rXHUsE",
      "include_colab_link": true
    },
    "kernelspec": {
      "name": "python3",
      "display_name": "Python 3"
    },
    "language_info": {
      "name": "python"
    }
  },
  "cells": [
    {
      "cell_type": "markdown",
      "metadata": {
        "id": "view-in-github",
        "colab_type": "text"
      },
      "source": [
        "<a href=\"https://colab.research.google.com/github/GeoDrk/Prob.-Y-Estadistica/blob/main/Programa_1.ipynb\" target=\"_parent\"><img src=\"https://colab.research.google.com/assets/colab-badge.svg\" alt=\"Open In Colab\"/></a>"
      ]
    },
    {
      "cell_type": "markdown",
      "source": [
        "# Unidad 1\n",
        "Practica 1. Estadistica descriptiva básica e histograma\n",
        "\n",
        "Facilitador: Dr. José Gabriel Rodriguez Rivas\n",
        "\n",
        "Alumno: Geovanni Joel Ramirez Rivas"
      ],
      "metadata": {
        "id": "eRldK9TqS5Xo"
      }
    },
    {
      "cell_type": "code",
      "execution_count": 1,
      "metadata": {
        "id": "DojKXUCGSycQ"
      },
      "outputs": [],
      "source": [
        "from statistics import *"
      ]
    },
    {
      "cell_type": "markdown",
      "source": [
        "# Ejemplo 1: Registro de calificaciones de 12 alumnos\n"
      ],
      "metadata": {
        "id": "LNIoPSAzT7oi"
      }
    },
    {
      "cell_type": "code",
      "source": [
        "# Listas de calificaciones del grupo a de probabilidad y estadistica\n",
        "grupoa = [70,70,65,90,100,95,45,80,73,20,100,96]\n",
        "print(grupoa)"
      ],
      "metadata": {
        "colab": {
          "base_uri": "https://localhost:8080/"
        },
        "id": "gOxB7i3TT5tQ",
        "outputId": "b787d03b-3cc3-493a-990c-59e7d269b910"
      },
      "execution_count": 2,
      "outputs": [
        {
          "output_type": "stream",
          "name": "stdout",
          "text": [
            "[70, 70, 65, 90, 100, 95, 45, 80, 73, 20, 100, 96]\n"
          ]
        }
      ]
    },
    {
      "cell_type": "code",
      "source": [
        "# La funcion type nos devuelve el tipo de dato de la variable\n",
        "type(grupoa)"
      ],
      "metadata": {
        "colab": {
          "base_uri": "https://localhost:8080/"
        },
        "id": "0lqjXKQGUfey",
        "outputId": "e7c4f5d6-4574-4abf-e416-b4c618f09d54"
      },
      "execution_count": 3,
      "outputs": [
        {
          "output_type": "execute_result",
          "data": {
            "text/plain": [
              "list"
            ]
          },
          "metadata": {},
          "execution_count": 3
        }
      ]
    },
    {
      "cell_type": "markdown",
      "source": [
        "# Determinar la media del ejemplo 1"
      ],
      "metadata": {
        "id": "Tf6x_u8OUpKA"
      }
    },
    {
      "cell_type": "code",
      "source": [
        "promedio = sum(grupoa) / len(grupoa)\n",
        "print (promedio)"
      ],
      "metadata": {
        "colab": {
          "base_uri": "https://localhost:8080/"
        },
        "id": "UmbaTCuXUuiw",
        "outputId": "08a3dc42-a818-4a44-9f76-2933eac3d498"
      },
      "execution_count": 4,
      "outputs": [
        {
          "output_type": "stream",
          "name": "stdout",
          "text": [
            "75.33333333333333\n"
          ]
        }
      ]
    },
    {
      "cell_type": "code",
      "source": [
        "# Utilizar la funcion mean que esta en la libreria statistics para sacar el promedio\n",
        "promedio2 = mean(grupoa)\n",
        "print(promedio2)"
      ],
      "metadata": {
        "colab": {
          "base_uri": "https://localhost:8080/"
        },
        "id": "I3cyxdPEVa7X",
        "outputId": "8437635d-4f30-437b-8cf2-955e3e44d011"
      },
      "execution_count": 5,
      "outputs": [
        {
          "output_type": "stream",
          "name": "stdout",
          "text": [
            "75.33333333333333\n"
          ]
        }
      ]
    },
    {
      "cell_type": "markdown",
      "source": [
        "# Determinar la mediana del ejemplo 1"
      ],
      "metadata": {
        "id": "uafdk2PHV1Ow"
      }
    },
    {
      "cell_type": "code",
      "source": [
        "# Determinar el valor de la mediana con la funcion median\n",
        "mediana = median(grupoa)\n",
        "print(mediana)"
      ],
      "metadata": {
        "colab": {
          "base_uri": "https://localhost:8080/"
        },
        "id": "RNjlcF3tVZeH",
        "outputId": "33bea1a0-5112-44df-d560-3a3b5f430d08"
      },
      "execution_count": 6,
      "outputs": [
        {
          "output_type": "stream",
          "name": "stdout",
          "text": [
            "76.5\n"
          ]
        }
      ]
    },
    {
      "cell_type": "markdown",
      "source": [
        "# Determinar la media del ejemplo 1"
      ],
      "metadata": {
        "id": "kG2j12N8W5p3"
      }
    },
    {
      "cell_type": "code",
      "source": [
        "moda = mode(grupoa)\n",
        "print(moda)"
      ],
      "metadata": {
        "colab": {
          "base_uri": "https://localhost:8080/"
        },
        "id": "gN88pKrjW-5V",
        "outputId": "f5eacc7e-07f3-42d4-bc31-51c24399f4d9"
      },
      "execution_count": 7,
      "outputs": [
        {
          "output_type": "stream",
          "name": "stdout",
          "text": [
            "70\n"
          ]
        }
      ]
    },
    {
      "cell_type": "code",
      "source": [
        "# En caso de que existan mas de una moda, se puede usar la funcion multimode para sacar\n",
        "# Las multiples modas que puedan existir\n",
        "moda2 = multimode(grupoa)\n",
        "print(moda2)"
      ],
      "metadata": {
        "colab": {
          "base_uri": "https://localhost:8080/"
        },
        "id": "_CYyX899Xbri",
        "outputId": "c609790c-9c66-4b0d-b972-27570a1151e7"
      },
      "execution_count": 8,
      "outputs": [
        {
          "output_type": "stream",
          "name": "stdout",
          "text": [
            "[70, 100]\n"
          ]
        }
      ]
    },
    {
      "cell_type": "markdown",
      "source": [
        "# Ejemplo 2. Tiempos de 100 metros de un grupo de 12 alumnos"
      ],
      "metadata": {
        "id": "9TVz8YhVYiXk"
      }
    },
    {
      "cell_type": "code",
      "source": [
        "# Definimos una variable llamada tiempos100mts de tipo lista, que contiene los\n",
        "# tiempos que tardaron los 10 alumnos para correr los 100 metros\n",
        "tiempos100mts = [15.10, 17.20, 14.69, 13.27, 22.15, 18.71, 19.15, 20,65, 15.10, 17.20]\n",
        "print(tiempos100mts)"
      ],
      "metadata": {
        "colab": {
          "base_uri": "https://localhost:8080/"
        },
        "id": "6EVdr-gUXYwA",
        "outputId": "2784c099-b4e2-4dcd-cd57-fcc25c8876a1"
      },
      "execution_count": 11,
      "outputs": [
        {
          "output_type": "stream",
          "name": "stdout",
          "text": [
            "[15.1, 17.2, 14.69, 13.27, 22.15, 18.71, 19.15, 20, 65, 15.1, 17.2]\n"
          ]
        }
      ]
    },
    {
      "cell_type": "markdown",
      "source": [
        "# Funcion mean para calcular el promedio"
      ],
      "metadata": {
        "id": "wSAKz_MVZW5v"
      }
    },
    {
      "cell_type": "code",
      "source": [
        "# Usamos la funcion mean para determinar el tiempo promedio de la lista de alumnos\n",
        "print(\"El tiempo promedio de los corredores es=>\", mean(tiempos100mts))"
      ],
      "metadata": {
        "colab": {
          "base_uri": "https://localhost:8080/"
        },
        "id": "ezaqYzcXZfE8",
        "outputId": "42c136d4-e9ec-4389-9523-af594c6e08b6"
      },
      "execution_count": 12,
      "outputs": [
        {
          "output_type": "stream",
          "name": "stdout",
          "text": [
            "El tiempo promedio de los corredores es=> 21.597272727272728\n"
          ]
        }
      ]
    },
    {
      "cell_type": "markdown",
      "source": [
        "# Funcion median para calcular la mediana"
      ],
      "metadata": {
        "id": "hRTfF93GaBsu"
      }
    },
    {
      "cell_type": "code",
      "source": [
        "# Usamos la funcion median para determinar el tiempo promedio de la lista de valores\n",
        "\n",
        "# definimos una variable llamada mediana para calcular la mediana de la lista con la funcion\n",
        "# median\n",
        "mediana = median(tiempos100mts)\n",
        "print(\"La media de los tiempos de los corredores es=>\", mediana)"
      ],
      "metadata": {
        "colab": {
          "base_uri": "https://localhost:8080/"
        },
        "id": "oUS-eLRCaHKt",
        "outputId": "e3e6eb38-9249-4078-b4d9-1556439b3c78"
      },
      "execution_count": 13,
      "outputs": [
        {
          "output_type": "stream",
          "name": "stdout",
          "text": [
            "La media de los tiempos de los corredores es=> 17.2\n"
          ]
        }
      ]
    },
    {
      "cell_type": "markdown",
      "source": [
        "# Funcion mode para calcular la moda"
      ],
      "metadata": {
        "id": "l3HYKZIcapps"
      }
    },
    {
      "cell_type": "code",
      "source": [
        "moda = mode(tiempos100mts)\n",
        "print(\"La moda de los tiempos de los corredores es=>\", moda)"
      ],
      "metadata": {
        "colab": {
          "base_uri": "https://localhost:8080/"
        },
        "id": "FGA9HdGBaufV",
        "outputId": "34757772-5a69-47d6-f7fe-12ad6ef745be"
      },
      "execution_count": 14,
      "outputs": [
        {
          "output_type": "stream",
          "name": "stdout",
          "text": [
            "La moda de los tiempos de los corredores es=> 15.1\n"
          ]
        }
      ]
    },
    {
      "cell_type": "markdown",
      "source": [
        "# Funcion multimode para calcular multiples modas"
      ],
      "metadata": {
        "id": "6EbDRV1rbQqh"
      }
    },
    {
      "cell_type": "code",
      "source": [
        "multimodas = multimode(tiempos100mts)\n",
        "print(\"La moda de los tiempos es=>\", multimode)"
      ],
      "metadata": {
        "colab": {
          "base_uri": "https://localhost:8080/"
        },
        "id": "2cR8ybwLbYGm",
        "outputId": "dd5c4c63-1850-491d-bccc-255d0fbdd6ac"
      },
      "execution_count": 15,
      "outputs": [
        {
          "output_type": "stream",
          "name": "stdout",
          "text": [
            "La moda de los tiempos es=> <function multimode at 0x7d18a762f560>\n"
          ]
        }
      ]
    },
    {
      "cell_type": "markdown",
      "source": [
        "# Ejemplo 3. Histogramas de 2 grupos\n"
      ],
      "metadata": {
        "id": "CsSnRD4FbrVF"
      }
    },
    {
      "cell_type": "code",
      "source": [
        "# Libreria para generar numeros aleatorios\n",
        "import random"
      ],
      "metadata": {
        "id": "LyQDD0F_bw4t"
      },
      "execution_count": 16,
      "outputs": []
    },
    {
      "cell_type": "code",
      "source": [
        "fabrica1 = []\n",
        "for i in range(100):\n",
        "  numero_aleatorio = round( random.uniform(50,100),2)\n",
        "  fabrica1.append(numero_aleatorio)\n",
        "print(fabrica1)"
      ],
      "metadata": {
        "colab": {
          "base_uri": "https://localhost:8080/"
        },
        "id": "H3FZ1Y75b4tS",
        "outputId": "0680752a-5d0f-44fe-ebc3-5610b6e67272"
      },
      "execution_count": 18,
      "outputs": [
        {
          "output_type": "stream",
          "name": "stdout",
          "text": [
            "[83.39, 59.85, 74.62, 67.46, 58.18, 76.41, 69.94, 94.07, 91.63, 62.25, 90.62, 52.67, 98.62, 82.2, 64.23, 79.62, 57.74, 56.78, 94.43, 89.37, 79.7, 83.81, 66.32, 78.96, 62.8, 86.04, 62.59, 83.76, 66.72, 68.42, 94.82, 54.76, 95.44, 93.34, 87.86, 61.58, 63.04, 65.68, 58.5, 59.28, 58.61, 61.49, 75.16, 68.07, 73.38, 85.02, 89.76, 90.07, 93.64, 55.97, 84.43, 73.61, 85.63, 57.12, 85.96, 67.35, 67.79, 72.19, 60.4, 63.35, 51.58, 97.35, 59.04, 92.62, 51.37, 57.02, 88.43, 80.12, 53.5, 62.47, 59.39, 56.43, 97.74, 75.9, 63.16, 77.4, 60.55, 88.79, 66.41, 67.39, 76.98, 70.94, 94.39, 71.56, 90.74, 78.49, 79.57, 95.81, 79.56, 75.24, 81.95, 58.65, 72.29, 73.87, 52.4, 73.94, 80.39, 80.92, 63.87, 96.79]\n"
          ]
        }
      ]
    },
    {
      "cell_type": "code",
      "source": [
        "fabrica2 = []\n",
        "for i in range(100):\n",
        "  numero_aleatorio2 = round( random.uniform(50,100),2)\n",
        "  fabrica2.append(numero_aleatorio2)\n",
        "print(fabrica2)"
      ],
      "metadata": {
        "colab": {
          "base_uri": "https://localhost:8080/"
        },
        "id": "brdlvAS4dkkR",
        "outputId": "6e0695dc-339e-4a6e-a117-bd09c049dd47"
      },
      "execution_count": 19,
      "outputs": [
        {
          "output_type": "stream",
          "name": "stdout",
          "text": [
            "[81.61, 58.56, 81.94, 66.47, 53.76, 71.95, 78.15, 61.61, 62.34, 80.22, 99.31, 66.74, 55.28, 53.98, 76.11, 85.35, 53.97, 93.21, 95.83, 58.81, 65.39, 94.4, 59.76, 68.65, 50.94, 75.13, 62.11, 98.82, 53.43, 52.2, 50.44, 93.76, 69.51, 96.92, 78.37, 61.83, 99.25, 57.05, 51.84, 73.44, 54.96, 64.09, 80.09, 91.85, 72.85, 58.63, 74.39, 81.24, 89.96, 71.3, 51.19, 72.2, 57.01, 82.75, 79.85, 64.79, 84.56, 97.27, 89.88, 91.18, 61.43, 91.93, 78.44, 87.31, 63.14, 88.74, 95.98, 94.73, 75.27, 60.44, 96.83, 55.61, 89.98, 57.01, 68.73, 78.54, 89.1, 70.1, 77.35, 71.5, 90.2, 88.12, 65.73, 59.66, 95.57, 58.63, 89.44, 95.15, 79.12, 53.08, 94.11, 58.23, 75.26, 58.95, 86.7, 97.31, 69.59, 81.19, 99.87, 85.75]\n"
          ]
        }
      ]
    },
    {
      "cell_type": "code",
      "source": [
        "# libreria de python para graficar valores\n",
        "import matplotlib.pyplot as plt"
      ],
      "metadata": {
        "id": "6gE107jQd0W8"
      },
      "execution_count": 21,
      "outputs": []
    },
    {
      "cell_type": "code",
      "source": [
        "plt.hist(fabrica1)\n",
        "plt.title(\"Producción diaria de la Fabrica 1\")"
      ],
      "metadata": {
        "colab": {
          "base_uri": "https://localhost:8080/",
          "height": 469
        },
        "id": "y4ScJ08veGOp",
        "outputId": "7ef20d14-d021-4163-b75a-20146fff76a6"
      },
      "execution_count": 22,
      "outputs": [
        {
          "output_type": "execute_result",
          "data": {
            "text/plain": [
              "Text(0.5, 1.0, 'Producción diaria de la Fabrica 1')"
            ]
          },
          "metadata": {},
          "execution_count": 22
        },
        {
          "output_type": "display_data",
          "data": {
            "text/plain": [
              "<Figure size 640x480 with 1 Axes>"
            ],
            "image/png": "[encoded data removed]"
          },
          "metadata": {}
        }
      ]
    },
    {
      "cell_type": "code",
      "source": [
        "plt.hist(fabrica2)\n",
        "plt.title(\"Producción diaria de la Fabrica 2\")"
      ],
      "metadata": {
        "colab": {
          "base_uri": "https://localhost:8080/",
          "height": 469
        },
        "id": "76iyN46uebq1",
        "outputId": "caa89eb8-81c2-4df7-a300-d58309fcdf1d"
      },
      "execution_count": 23,
      "outputs": [
        {
          "output_type": "execute_result",
          "data": {
            "text/plain": [
              "Text(0.5, 1.0, 'Producción diaria de la Fabrica 2')"
            ]
          },
          "metadata": {},
          "execution_count": 23
        },
        {
          "output_type": "display_data",
          "data": {
            "text/plain": [
              "<Figure size 640x480 with 1 Axes>"
            ],
            "image/png": "[encoded data removed]"
          },
          "metadata": {}
        }
      ]
    }
  ]
}